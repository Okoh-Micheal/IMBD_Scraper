{
 "cells": [
  {
   "cell_type": "code",
   "execution_count": 34,
   "id": "b90b125f",
   "metadata": {},
   "outputs": [],
   "source": [
    "import pandas as pd\n",
    "import requests\n",
    "from bs4 import BeautifulSoup\n",
    "import time"
   ]
  },
  {
   "cell_type": "code",
   "execution_count": 35,
   "id": "9daf5788",
   "metadata": {},
   "outputs": [],
   "source": [
    "url = \"https://www.imdb.com/search/title/?title_type=tv_series,tv_miniseries&genres=adventure\" #the url of the first page I would be scraping. In this link, &start = 0, but it is hidden."
   ]
  },
  {
   "cell_type": "code",
   "execution_count": 36,
   "id": "9042808f",
   "metadata": {},
   "outputs": [],
   "source": [
    "TV_Shows = [] #A list to store the unique tv_shows"
   ]
  },
  {
   "cell_type": "code",
   "execution_count": 37,
   "id": "48c41c91",
   "metadata": {},
   "outputs": [],
   "source": [
    "imbd_content = requests.get(url).content #Here, I send a request for each page.\n",
    "\n",
    "soup = BeautifulSoup(imbd_content, \"lxml\")"
   ]
  },
  {
   "cell_type": "code",
   "execution_count": 38,
   "id": "32c7a91b",
   "metadata": {},
   "outputs": [],
   "source": [
    "def imbdScraper():\n",
    "\n",
    "    for page in range(1,31):\n",
    "        page_url = f\"{url}&start={(page-1)*50 + 1}\"  #For each page, the code constructs a unique URL that points to the page\n",
    "        print(f\"Scraping page {page}: {page_url}\")\n",
    "\n",
    "        imbd_content = requests.get(page_url).content #Here, I send a request for each page.\n",
    "\n",
    "        soup = BeautifulSoup(imbd_content, \"lxml\")\n",
    "\n",
    "        results = soup.find_all(\"div\", class_ = \"lister-item mode-advanced\") #find all div tags with the 'lister-item mode advanced' class\n",
    "\n",
    "\n",
    "\n",
    "        for result in results:     #for every block in results above,\n",
    "            show_title = result.h3.a.text    #store the title of the TV show on that block\n",
    "            Genre = result.find(\"span\", class_ = \"genre\").text.strip() #store the genre of the movie on that block\n",
    "            Run_Time = result.find(\"span\", class_=\"runtime\")  #store the run time of the movie on that block\n",
    "            if Run_Time:     #if that block has a run time, store it\n",
    "                Run_Time = Run_Time.text.strip()   \n",
    "            else:            \n",
    "                Run_Time = \"Run Time N/A\"   #if the block doesn't have a runtime, say \"Run Time N/A\"\n",
    "            Rating = result.find(\"div\", class_ = \"inline-block ratings-imdb-rating\")\n",
    "            if Rating:      #if that block has a Rating, store it\n",
    "                Rating = Rating.text.strip()\n",
    "            else:\n",
    "                Rating = \"Rating N/A\"  #else say \"Rating N/A\"\n",
    "            Number_Of_Votes = result.find(\"p\", class_ = \"sort-num_votes-visible\")  #Store the number of votes that movie block has\n",
    "            if Number_Of_Votes:   \n",
    "                Number_Of_Votes = Number_Of_Votes.text.split()[1] #if it has votes, store it\n",
    "            else:\n",
    "                Number_Of_Votes = \"Votes N/A\"  #else, say 'Votes N/A'\n",
    "            Year = result.find('span', class_ = \"lister-item-year text-muted unbold\").text #store the year that movie was released\n",
    "            Synopsis = result.find_all(\"p\", class_ = \"text-muted\")[1].text.strip() #store the synopsis of that movie\n",
    "            Actor = result.find(\"p\", class_ = \"\").text.strip().split(\",\") \n",
    "            Actors = \", \".join([actor.replace(\"Stars:\", \"\").strip() for actor in Actor]) #the actors of that particular movie\n",
    "\n",
    "            try:\n",
    "                certificate = result.find(\"span\", class_=\"certificate\").text.strip() #if the movie has a certificate, store it\n",
    "            except:\n",
    "                certificate = \"Certificate N/A\" #else say 'Certificate N/A'\n",
    "\n",
    "            Image = result.find(\"div\", class_ =\"lister-item-image float-left\") #store the cover image of each movie block\n",
    "            if Image:\n",
    "                image = Image.select_one(\"img\")['src']\n",
    "            else:\n",
    "                image = \"Image N/A\"  #if the movie block has no image, say \"Image N/A\"\n",
    "\n",
    "\n",
    "            tv_show = {'Title': show_title, \"Genre\": Genre, \"Run Time\": Run_Time, \"Rating\": Rating,\n",
    "                      \"Number of Votes\": Number_Of_Votes, \"Year\": Year, \"Certificate\": certificate, \"Synopsis\": Synopsis, \"Actors\": Actors, \"Image\": image}\n",
    "            #I use this dictionary- tv_show to store the details of that movie block\n",
    "            \n",
    "            TV_Shows.append(tv_show) #I add this dictionary to my list of TV shows, such that every TV_show has its details stored in its own dictionary\n",
    "            #Once I finished adding all the dictionaries to my list of TV_shows, I jump out of the loop as there are no more movies on that page.\n",
    "        \n",
    "        \n",
    "        \n",
    "        next_button = soup.find(\"div\", class_ = \"desc\").find(\"a\", class_ = \"lister-page-next next-page\")\n",
    "        #This is where things get interesting. I use Beautiful Soup to check if there is a \"Next Page\" button on that particular page. \n",
    "        if next_button:\n",
    "            nextpage_url = \"https://www.imdb.com\" + next_button[\"href\"] #If there is a next button, concatenate the domain name of the website to the content of the href attribute,\n",
    "                                                                        #such that when a request is sent, it goes to that address.\n",
    "            imbd_content = requests.get(nextpage_url).content  #to get the content of the next page, a request is sent to the web address of that next page.\n",
    "            soup = BeautifulSoup(imbd_content, \"lxml\")\n",
    "            time.sleep(3)  #after 3 seconds, a new request is sent to the next page.\n",
    "        else:\n",
    "            break    #if there is no next button, the loop breaks\n",
    "\n",
    "    TV_ShowsDF = pd.DataFrame(TV_Shows) #Here, I convert the scraped data(which is already stored in TV_Shows) into a pandas DataFrame\n",
    "    TV_ShowsDF.to_csv('tv_shows.csv', index=False)\n",
    "    return TV_ShowsDF    #The DataFrame is returned each time this function is called."
   ]
  },
  {
   "cell_type": "code",
   "execution_count": 39,
   "id": "02ad5419",
   "metadata": {},
   "outputs": [
    {
     "name": "stdout",
     "output_type": "stream",
     "text": [
      "Scraping page 1: https://www.imdb.com/search/title/?title_type=tv_series,tv_miniseries&genres=adventure&start=1\n",
      "Scraping page 2: https://www.imdb.com/search/title/?title_type=tv_series,tv_miniseries&genres=adventure&start=51\n",
      "Scraping page 3: https://www.imdb.com/search/title/?title_type=tv_series,tv_miniseries&genres=adventure&start=101\n",
      "Scraping page 4: https://www.imdb.com/search/title/?title_type=tv_series,tv_miniseries&genres=adventure&start=151\n",
      "Scraping page 5: https://www.imdb.com/search/title/?title_type=tv_series,tv_miniseries&genres=adventure&start=201\n",
      "Scraping page 6: https://www.imdb.com/search/title/?title_type=tv_series,tv_miniseries&genres=adventure&start=251\n",
      "Scraping page 7: https://www.imdb.com/search/title/?title_type=tv_series,tv_miniseries&genres=adventure&start=301\n",
      "Scraping page 8: https://www.imdb.com/search/title/?title_type=tv_series,tv_miniseries&genres=adventure&start=351\n",
      "Scraping page 9: https://www.imdb.com/search/title/?title_type=tv_series,tv_miniseries&genres=adventure&start=401\n",
      "Scraping page 10: https://www.imdb.com/search/title/?title_type=tv_series,tv_miniseries&genres=adventure&start=451\n",
      "Scraping page 11: https://www.imdb.com/search/title/?title_type=tv_series,tv_miniseries&genres=adventure&start=501\n",
      "Scraping page 12: https://www.imdb.com/search/title/?title_type=tv_series,tv_miniseries&genres=adventure&start=551\n",
      "Scraping page 13: https://www.imdb.com/search/title/?title_type=tv_series,tv_miniseries&genres=adventure&start=601\n",
      "Scraping page 14: https://www.imdb.com/search/title/?title_type=tv_series,tv_miniseries&genres=adventure&start=651\n",
      "Scraping page 15: https://www.imdb.com/search/title/?title_type=tv_series,tv_miniseries&genres=adventure&start=701\n",
      "Scraping page 16: https://www.imdb.com/search/title/?title_type=tv_series,tv_miniseries&genres=adventure&start=751\n",
      "Scraping page 17: https://www.imdb.com/search/title/?title_type=tv_series,tv_miniseries&genres=adventure&start=801\n",
      "Scraping page 18: https://www.imdb.com/search/title/?title_type=tv_series,tv_miniseries&genres=adventure&start=851\n",
      "Scraping page 19: https://www.imdb.com/search/title/?title_type=tv_series,tv_miniseries&genres=adventure&start=901\n",
      "Scraping page 20: https://www.imdb.com/search/title/?title_type=tv_series,tv_miniseries&genres=adventure&start=951\n",
      "Scraping page 21: https://www.imdb.com/search/title/?title_type=tv_series,tv_miniseries&genres=adventure&start=1001\n",
      "Scraping page 22: https://www.imdb.com/search/title/?title_type=tv_series,tv_miniseries&genres=adventure&start=1051\n",
      "Scraping page 23: https://www.imdb.com/search/title/?title_type=tv_series,tv_miniseries&genres=adventure&start=1101\n",
      "Scraping page 24: https://www.imdb.com/search/title/?title_type=tv_series,tv_miniseries&genres=adventure&start=1151\n",
      "Scraping page 25: https://www.imdb.com/search/title/?title_type=tv_series,tv_miniseries&genres=adventure&start=1201\n",
      "Scraping page 26: https://www.imdb.com/search/title/?title_type=tv_series,tv_miniseries&genres=adventure&start=1251\n",
      "Scraping page 27: https://www.imdb.com/search/title/?title_type=tv_series,tv_miniseries&genres=adventure&start=1301\n",
      "Scraping page 28: https://www.imdb.com/search/title/?title_type=tv_series,tv_miniseries&genres=adventure&start=1351\n",
      "Scraping page 29: https://www.imdb.com/search/title/?title_type=tv_series,tv_miniseries&genres=adventure&start=1401\n",
      "Scraping page 30: https://www.imdb.com/search/title/?title_type=tv_series,tv_miniseries&genres=adventure&start=1451\n"
     ]
    }
   ],
   "source": [
    "TV_ShowsDF = imbdScraper()"
   ]
  },
  {
   "cell_type": "markdown",
   "id": "1153896b",
   "metadata": {},
   "source": [
    "# SOME INFORMATION ON OUR DATAFRAME"
   ]
  },
  {
   "cell_type": "code",
   "execution_count": 42,
   "id": "55b5e01d",
   "metadata": {},
   "outputs": [
    {
     "data": {
      "text/html": [
       "<div>\n",
       "<style scoped>\n",
       "    .dataframe tbody tr th:only-of-type {\n",
       "        vertical-align: middle;\n",
       "    }\n",
       "\n",
       "    .dataframe tbody tr th {\n",
       "        vertical-align: top;\n",
       "    }\n",
       "\n",
       "    .dataframe thead th {\n",
       "        text-align: right;\n",
       "    }\n",
       "</style>\n",
       "<table border=\"1\" class=\"dataframe\">\n",
       "  <thead>\n",
       "    <tr style=\"text-align: right;\">\n",
       "      <th></th>\n",
       "      <th>Rating</th>\n",
       "      <th>Number of Votes</th>\n",
       "    </tr>\n",
       "  </thead>\n",
       "  <tbody>\n",
       "    <tr>\n",
       "      <th>count</th>\n",
       "      <td>1500</td>\n",
       "      <td>1500</td>\n",
       "    </tr>\n",
       "    <tr>\n",
       "      <th>unique</th>\n",
       "      <td>69</td>\n",
       "      <td>1363</td>\n",
       "    </tr>\n",
       "    <tr>\n",
       "      <th>top</th>\n",
       "      <td>7.2</td>\n",
       "      <td>Votes N/A</td>\n",
       "    </tr>\n",
       "    <tr>\n",
       "      <th>freq</th>\n",
       "      <td>77</td>\n",
       "      <td>63</td>\n",
       "    </tr>\n",
       "  </tbody>\n",
       "</table>\n",
       "</div>"
      ],
      "text/plain": [
       "       Rating Number of Votes\n",
       "count    1500            1500\n",
       "unique     69            1363\n",
       "top       7.2       Votes N/A\n",
       "freq       77              63"
      ]
     },
     "execution_count": 42,
     "metadata": {},
     "output_type": "execute_result"
    }
   ],
   "source": [
    "# Convert the list of dictionaries (TV_Shows) into a DataFrame and name it TV_ShowsDF\n",
    "TV_ShowsDF = pd.DataFrame(TV_Shows)\n",
    "\n",
    "# Display basic statistics of numeric columns\n",
    "numeric_columns = ['Rating', 'Number of Votes']\n",
    "TV_ShowsDF[numeric_columns].describe()"
   ]
  },
  {
   "cell_type": "code",
   "execution_count": 43,
   "id": "85198e8d",
   "metadata": {},
   "outputs": [
    {
     "name": "stdout",
     "output_type": "stream",
     "text": [
      "Most common certificates:\n"
     ]
    },
    {
     "data": {
      "text/plain": [
       "Certificate N/A    1484\n",
       "PG                    6\n",
       "PG-13                 3\n",
       "15                    2\n",
       "G                     2\n",
       "Name: Certificate, dtype: int64"
      ]
     },
     "execution_count": 43,
     "metadata": {},
     "output_type": "execute_result"
    }
   ],
   "source": [
    "# Count unique values in the 'Certificate' column\n",
    "certificate_counts = TV_ShowsDF['Certificate'].value_counts()\n",
    "\n",
    "# Display the most common certificates\n",
    "print(\"Most common certificates:\")\n",
    "certificate_counts.head()"
   ]
  },
  {
   "cell_type": "code",
   "execution_count": 44,
   "id": "da105132",
   "metadata": {},
   "outputs": [
    {
     "name": "stdout",
     "output_type": "stream",
     "text": [
      "\n",
      "Most common genres:\n"
     ]
    },
    {
     "data": {
      "text/plain": [
       "Adventure    1455\n",
       "Action        890\n",
       "Animation     743\n",
       "Comedy        335\n",
       "Drama         333\n",
       "Name: Genre, dtype: int64"
      ]
     },
     "execution_count": 44,
     "metadata": {},
     "output_type": "execute_result"
    }
   ],
   "source": [
    "# Count unique values in the 'Genre' column (splitting by commas)\n",
    "genres = TV_ShowsDF['Genre'].str.split(', ').explode()\n",
    "genre_counts = genres.value_counts()\n",
    "\n",
    "# Display the most common genres\n",
    "print(\"\\nMost common genres:\")\n",
    "genre_counts.head()"
   ]
  },
  {
   "cell_type": "code",
   "execution_count": 46,
   "id": "58ca256a",
   "metadata": {},
   "outputs": [
    {
     "name": "stdout",
     "output_type": "stream",
     "text": [
      "\n",
      "DataFrame summary:\n",
      "<class 'pandas.core.frame.DataFrame'>\n",
      "RangeIndex: 1500 entries, 0 to 1499\n",
      "Data columns (total 10 columns):\n",
      " #   Column           Non-Null Count  Dtype \n",
      "---  ------           --------------  ----- \n",
      " 0   Title            1500 non-null   object\n",
      " 1   Genre            1500 non-null   object\n",
      " 2   Run Time         1500 non-null   object\n",
      " 3   Rating           1500 non-null   object\n",
      " 4   Number of Votes  1500 non-null   object\n",
      " 5   Year             1500 non-null   object\n",
      " 6   Certificate      1500 non-null   object\n",
      " 7   Synopsis         1500 non-null   object\n",
      " 8   Actors           1500 non-null   object\n",
      " 9   Image            1500 non-null   object\n",
      "dtypes: object(10)\n",
      "memory usage: 117.3+ KB\n"
     ]
    }
   ],
   "source": [
    "# Print summary information about the DataFrame\n",
    "print(\"\\nDataFrame summary:\")\n",
    "TV_ShowsDF.info()"
   ]
  },
  {
   "cell_type": "code",
   "execution_count": 47,
   "id": "b17e0fcb",
   "metadata": {},
   "outputs": [
    {
     "name": "stdout",
     "output_type": "stream",
     "text": [
      "\n",
      "First few rows of the DataFrame:\n"
     ]
    },
    {
     "data": {
      "text/html": [
       "<div>\n",
       "<style scoped>\n",
       "    .dataframe tbody tr th:only-of-type {\n",
       "        vertical-align: middle;\n",
       "    }\n",
       "\n",
       "    .dataframe tbody tr th {\n",
       "        vertical-align: top;\n",
       "    }\n",
       "\n",
       "    .dataframe thead th {\n",
       "        text-align: right;\n",
       "    }\n",
       "</style>\n",
       "<table border=\"1\" class=\"dataframe\">\n",
       "  <thead>\n",
       "    <tr style=\"text-align: right;\">\n",
       "      <th></th>\n",
       "      <th>Title</th>\n",
       "      <th>Genre</th>\n",
       "      <th>Run Time</th>\n",
       "      <th>Rating</th>\n",
       "      <th>Number of Votes</th>\n",
       "      <th>Year</th>\n",
       "      <th>Certificate</th>\n",
       "      <th>Synopsis</th>\n",
       "      <th>Actors</th>\n",
       "      <th>Image</th>\n",
       "    </tr>\n",
       "  </thead>\n",
       "  <tbody>\n",
       "    <tr>\n",
       "      <th>0</th>\n",
       "      <td>One Piece</td>\n",
       "      <td>Action, Adventure, Comedy</td>\n",
       "      <td>60 min</td>\n",
       "      <td>8.5</td>\n",
       "      <td>59,605</td>\n",
       "      <td>(2023– )</td>\n",
       "      <td>Certificate N/A</td>\n",
       "      <td>In a seafaring world, a young pirate captain s...</td>\n",
       "      <td>Iñaki Godoy, Emily Rudd, Mackenyu, Vincent Regan</td>\n",
       "      <td>https://m.media-amazon.com/images/S/sash/4Fyxw...</td>\n",
       "    </tr>\n",
       "    <tr>\n",
       "      <th>1</th>\n",
       "      <td>Ahsoka</td>\n",
       "      <td>Action, Adventure, Drama</td>\n",
       "      <td>Run Time N/A</td>\n",
       "      <td>8.0</td>\n",
       "      <td>26,398</td>\n",
       "      <td>(2023– )</td>\n",
       "      <td>Certificate N/A</td>\n",
       "      <td>After the fall of the Galactic Empire, former ...</td>\n",
       "      <td>Rosario Dawson, Natasha Liu Bordizzo, Mary Eli...</td>\n",
       "      <td>https://m.media-amazon.com/images/S/sash/4Fyxw...</td>\n",
       "    </tr>\n",
       "    <tr>\n",
       "      <th>2</th>\n",
       "      <td>Who Is Erin Carter?</td>\n",
       "      <td>Action, Adventure, Crime</td>\n",
       "      <td>338 min</td>\n",
       "      <td>6.5</td>\n",
       "      <td>7,560</td>\n",
       "      <td>(2023)</td>\n",
       "      <td>Certificate N/A</td>\n",
       "      <td>Erin Carter, a British teacher in Spain, finds...</td>\n",
       "      <td>Evin Ahmad, Sean Teale, Denise Gough, Indica W...</td>\n",
       "      <td>https://m.media-amazon.com/images/S/sash/4Fyxw...</td>\n",
       "    </tr>\n",
       "    <tr>\n",
       "      <th>3</th>\n",
       "      <td>The Wheel of Time</td>\n",
       "      <td>Action, Adventure, Drama</td>\n",
       "      <td>60 min</td>\n",
       "      <td>7.1</td>\n",
       "      <td>115,332</td>\n",
       "      <td>(2021– )</td>\n",
       "      <td>Certificate N/A</td>\n",
       "      <td>Set in a high fantasy world where magic exists...</td>\n",
       "      <td>Rosamund Pike, Daniel Henney, Madeleine Madden...</td>\n",
       "      <td>https://m.media-amazon.com/images/S/sash/4Fyxw...</td>\n",
       "    </tr>\n",
       "    <tr>\n",
       "      <th>4</th>\n",
       "      <td>Game of Thrones</td>\n",
       "      <td>Action, Adventure, Drama</td>\n",
       "      <td>57 min</td>\n",
       "      <td>9.2</td>\n",
       "      <td>2,200,627</td>\n",
       "      <td>(2011–2019)</td>\n",
       "      <td>18</td>\n",
       "      <td>Nine noble families fight for control over the...</td>\n",
       "      <td>Emilia Clarke, Peter Dinklage, Kit Harington, ...</td>\n",
       "      <td>https://m.media-amazon.com/images/S/sash/4Fyxw...</td>\n",
       "    </tr>\n",
       "  </tbody>\n",
       "</table>\n",
       "</div>"
      ],
      "text/plain": [
       "                 Title                      Genre      Run Time Rating  \\\n",
       "0            One Piece  Action, Adventure, Comedy        60 min    8.5   \n",
       "1               Ahsoka   Action, Adventure, Drama  Run Time N/A    8.0   \n",
       "2  Who Is Erin Carter?   Action, Adventure, Crime       338 min    6.5   \n",
       "3    The Wheel of Time   Action, Adventure, Drama        60 min    7.1   \n",
       "4      Game of Thrones   Action, Adventure, Drama        57 min    9.2   \n",
       "\n",
       "  Number of Votes         Year      Certificate  \\\n",
       "0          59,605     (2023– )  Certificate N/A   \n",
       "1          26,398     (2023– )  Certificate N/A   \n",
       "2           7,560       (2023)  Certificate N/A   \n",
       "3         115,332     (2021– )  Certificate N/A   \n",
       "4       2,200,627  (2011–2019)               18   \n",
       "\n",
       "                                            Synopsis  \\\n",
       "0  In a seafaring world, a young pirate captain s...   \n",
       "1  After the fall of the Galactic Empire, former ...   \n",
       "2  Erin Carter, a British teacher in Spain, finds...   \n",
       "3  Set in a high fantasy world where magic exists...   \n",
       "4  Nine noble families fight for control over the...   \n",
       "\n",
       "                                              Actors  \\\n",
       "0   Iñaki Godoy, Emily Rudd, Mackenyu, Vincent Regan   \n",
       "1  Rosario Dawson, Natasha Liu Bordizzo, Mary Eli...   \n",
       "2  Evin Ahmad, Sean Teale, Denise Gough, Indica W...   \n",
       "3  Rosamund Pike, Daniel Henney, Madeleine Madden...   \n",
       "4  Emilia Clarke, Peter Dinklage, Kit Harington, ...   \n",
       "\n",
       "                                               Image  \n",
       "0  https://m.media-amazon.com/images/S/sash/4Fyxw...  \n",
       "1  https://m.media-amazon.com/images/S/sash/4Fyxw...  \n",
       "2  https://m.media-amazon.com/images/S/sash/4Fyxw...  \n",
       "3  https://m.media-amazon.com/images/S/sash/4Fyxw...  \n",
       "4  https://m.media-amazon.com/images/S/sash/4Fyxw...  "
      ]
     },
     "execution_count": 47,
     "metadata": {},
     "output_type": "execute_result"
    }
   ],
   "source": [
    "# Display the first few rows of the DataFrame\n",
    "print(\"\\nFirst few rows of the DataFrame:\")\n",
    "TV_ShowsDF.head()"
   ]
  },
  {
   "cell_type": "code",
   "execution_count": null,
   "id": "3b827e1c",
   "metadata": {},
   "outputs": [],
   "source": []
  }
 ],
 "metadata": {
  "kernelspec": {
   "display_name": "Python 3 (ipykernel)",
   "language": "python",
   "name": "python3"
  },
  "language_info": {
   "codemirror_mode": {
    "name": "ipython",
    "version": 3
   },
   "file_extension": ".py",
   "mimetype": "text/x-python",
   "name": "python",
   "nbconvert_exporter": "python",
   "pygments_lexer": "ipython3",
   "version": "3.9.13"
  }
 },
 "nbformat": 4,
 "nbformat_minor": 5
}
